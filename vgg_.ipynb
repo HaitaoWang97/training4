{
 "cells": [
  {
   "cell_type": "code",
   "execution_count": 4,
   "metadata": {},
   "outputs": [],
   "source": [
    "import d2lzh as d2l\n",
    "from mxnet import gluon , init,nd\n",
    "from mxnet.gluon import nn\n",
    "#定义vgg模块：多个连接层后接一个全连接层\n",
    "def vgg_block(num_convs,num_channels):\n",
    "    blk = nn.Sequential()\n",
    "    for _ in range(num_convs):\n",
    "        blk.add(nn.Conv2D(num_channels, kernel_size=3,padding=1, activation='relu'))\n",
    "    blk.add(nn.MaxPool2D(pool_size=2, strides=2))\n",
    "    return blk\n"
   ]
  },
  {
   "cell_type": "code",
   "execution_count": 5,
   "metadata": {},
   "outputs": [],
   "source": [
    "#设置每个vgg的参数\n",
    "conv_arch = ((1, 64),(1, 128),(2, 256),(2, 512),(2, 512))"
   ]
  },
  {
   "cell_type": "code",
   "execution_count": 6,
   "metadata": {},
   "outputs": [],
   "source": [
    "#设置vvg网络层数\n",
    "def vgg(conv_arch):\n",
    "    net = nn.Sequential()\n",
    "    for (num_convs, num_channels) in conv_arch:\n",
    "        net.add(vgg_block(num_convs, num_channels))\n",
    "    net.add(nn.Dense(4096, activation='relu'), nn.Dropout(0.5),\n",
    "           nn.Dense(4096, activation='relu'), nn.Dropout(0.5),\n",
    "            nn.Dense(10))\n",
    "    return net \n",
    "net = vgg(conv_arch)"
   ]
  },
  {
   "cell_type": "code",
   "execution_count": 7,
   "metadata": {},
   "outputs": [
    {
     "name": "stdout",
     "output_type": "stream",
     "text": [
      "sequential3 output shape：\t (1, 64, 112, 112)\n",
      "sequential4 output shape：\t (1, 128, 56, 56)\n",
      "sequential5 output shape：\t (1, 256, 28, 28)\n",
      "sequential6 output shape：\t (1, 512, 14, 14)\n",
      "sequential7 output shape：\t (1, 512, 7, 7)\n",
      "dense0 output shape：\t (1, 4096)\n",
      "dropout0 output shape：\t (1, 4096)\n",
      "dense1 output shape：\t (1, 4096)\n",
      "dropout1 output shape：\t (1, 4096)\n",
      "dense2 output shape：\t (1, 10)\n"
     ]
    }
   ],
   "source": [
    "#初始化模型，查看每层的输出\n",
    "net.initialize()\n",
    "X = nd.random.uniform(shape=(1,1,224,224))\n",
    "for blk in net:\n",
    "    X = blk(X)\n",
    "    print(blk.name, 'output shape：\\t',X.shape)"
   ]
  },
  {
   "cell_type": "code",
   "execution_count": 9,
   "metadata": {},
   "outputs": [],
   "source": [
    "#鉴于计算复杂度，构造通道数更小的模型\n",
    "ratio = 4\n",
    "small_conv_arch = [(pair[0], pair[1] // ratio)  for pair in conv_arch ]   #将通道数除以四\n",
    "net = vgg(small_conv_arch)"
   ]
  },
  {
   "cell_type": "code",
   "execution_count": null,
   "metadata": {},
   "outputs": [],
   "source": [
    "#训练模型\n",
    "lr, num_epochs, batch_size, ctx = 0.05, 5 ,128,d2l.try_gpu()\n",
    "net.initialize(ctx=ctx, init=init.Xavier())\n",
    "trainer = gluon.Trainer(net.collect_params(), 'sgd', {'learning_rate':lr})\n",
    "train_iter, test_iter = d2l.load_data_fashion_mnist(batch_size, resize =224)\n",       #load_data__fashion_mnist已经将Totensor,resize都包含了
    "d2l.train_ch5(net, train_iter, test_iter, batch_size, trainer, ctx, num_epochs)\n"    
   ]
  }
 ],
 "metadata": {
  "kernelspec": {
   "display_name": "Python 3",
   "language": "python",
   "name": "python3"
  },
  "language_info": {
   "codemirror_mode": {
    "name": "ipython",
    "version": 3
   },
   "file_extension": ".py",
   "mimetype": "text/x-python",
   "name": "python",
   "nbconvert_exporter": "python",
   "pygments_lexer": "ipython3",
   "version": "3.6.8"
  }
 },
 "nbformat": 4,
 "nbformat_minor": 2
}
